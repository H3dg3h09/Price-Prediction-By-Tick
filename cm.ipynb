{
 "cells": [
  {
   "cell_type": "code",
   "execution_count": 5,
   "metadata": {},
   "outputs": [
    {
     "ename": "UnboundLocalError",
     "evalue": "local variable 'tick_data' referenced before assignment",
     "output_type": "error",
     "traceback": [
      "\u001b[0;31m---------------------------------------------------------------------------\u001b[0m",
      "\u001b[0;31mUnboundLocalError\u001b[0m                         Traceback (most recent call last)",
      "Cell \u001b[0;32mIn[5], line 75\u001b[0m\n\u001b[1;32m     71\u001b[0m     plt\u001b[38;5;241m.\u001b[39mshow()\n\u001b[1;32m     73\u001b[0m     \u001b[38;5;28;01mreturn\u001b[39;00m model\n\u001b[0;32m---> 75\u001b[0m \u001b[43mtrain1\u001b[49m\u001b[43m(\u001b[49m\u001b[38;5;241;43m*\u001b[39;49m\u001b[38;5;241;43m*\u001b[39;49m\u001b[43m{\u001b[49m\u001b[38;5;124;43m'\u001b[39;49m\u001b[38;5;124;43mdepth\u001b[39;49m\u001b[38;5;124;43m'\u001b[39;49m\u001b[43m:\u001b[49m\u001b[43m \u001b[49m\u001b[38;5;241;43m6\u001b[39;49m\u001b[43m,\u001b[49m\u001b[43m \u001b[49m\u001b[38;5;124;43m'\u001b[39;49m\u001b[38;5;124;43miterations\u001b[39;49m\u001b[38;5;124;43m'\u001b[39;49m\u001b[43m:\u001b[49m\u001b[43m \u001b[49m\u001b[38;5;241;43m100\u001b[39;49m\u001b[43m,\u001b[49m\u001b[43m \u001b[49m\u001b[38;5;124;43m'\u001b[39;49m\u001b[38;5;124;43mlearning_rate\u001b[39;49m\u001b[38;5;124;43m'\u001b[39;49m\u001b[43m:\u001b[49m\u001b[43m \u001b[49m\u001b[38;5;241;43m0.05\u001b[39;49m\u001b[43m}\u001b[49m\u001b[43m)\u001b[49m\n",
      "Cell \u001b[0;32mIn[5], line 28\u001b[0m, in \u001b[0;36mtrain1\u001b[0;34m(iterations, learning_rate, depth)\u001b[0m\n\u001b[1;32m     27\u001b[0m \u001b[38;5;28;01mdef\u001b[39;00m \u001b[38;5;21mtrain1\u001b[39m(iterations\u001b[38;5;241m=\u001b[39m\u001b[38;5;241m500\u001b[39m, learning_rate\u001b[38;5;241m=\u001b[39m\u001b[38;5;241m0.05\u001b[39m, depth\u001b[38;5;241m=\u001b[39m\u001b[38;5;241m10\u001b[39m):\n\u001b[0;32m---> 28\u001b[0m     tick_data[\u001b[38;5;124m'\u001b[39m\u001b[38;5;124m时间\u001b[39m\u001b[38;5;124m'\u001b[39m] \u001b[38;5;241m=\u001b[39m pd\u001b[38;5;241m.\u001b[39mto_datetime(\u001b[43mtick_data\u001b[49m[\u001b[38;5;124m'\u001b[39m\u001b[38;5;124m时间\u001b[39m\u001b[38;5;124m'\u001b[39m])\n\u001b[1;32m     29\u001b[0m     tick_data[\u001b[38;5;124m'\u001b[39m\u001b[38;5;124m时间\u001b[39m\u001b[38;5;124m'\u001b[39m] \u001b[38;5;241m=\u001b[39m (tick_data[\u001b[38;5;124m'\u001b[39m\u001b[38;5;124m时间\u001b[39m\u001b[38;5;124m'\u001b[39m] \u001b[38;5;241m-\u001b[39m tick_data[\u001b[38;5;124m'\u001b[39m\u001b[38;5;124m时间\u001b[39m\u001b[38;5;124m'\u001b[39m]\u001b[38;5;241m.\u001b[39mmin()) \u001b[38;5;241m/\u001b[39m np\u001b[38;5;241m.\u001b[39mtimedelta64(\u001b[38;5;241m1\u001b[39m, \u001b[38;5;124m'\u001b[39m\u001b[38;5;124ms\u001b[39m\u001b[38;5;124m'\u001b[39m)\n\u001b[1;32m     30\u001b[0m     tick_data \u001b[38;5;241m=\u001b[39m tick_data\u001b[38;5;241m.\u001b[39msort_values(by\u001b[38;5;241m=\u001b[39m\u001b[38;5;124m'\u001b[39m\u001b[38;5;124m时间\u001b[39m\u001b[38;5;124m'\u001b[39m)\n",
      "\u001b[0;31mUnboundLocalError\u001b[0m: local variable 'tick_data' referenced before assignment"
     ]
    }
   ],
   "source": [
    "from catboost import CatBoostClassifier, Pool\n",
    "from sklearn.metrics import confusion_matrix\n",
    "import seaborn as sns\n",
    "import chardet\n",
    "import pandas as pd\n",
    "import numpy as np\n",
    "\n",
    "def get_data():\n",
    "    #  读取二进制文件内容\n",
    "    file_name = './data/tick_data.csv'\n",
    "    with open(file_name, 'rb') as f:\n",
    "        result = chardet.detect(f.read())\n",
    "\n",
    "    # 获取检测到的编码格式\n",
    "    encoding = result['encoding']\n",
    "\n",
    "    # 使用检测到的编码格式读取文件\n",
    "    tick_data = pd.read_csv(\n",
    "        file_name,\n",
    "        encoding=encoding,\n",
    "    )\n",
    "    tick_data.drop(columns=['市场代码', '证券代码'], inplace=True)\n",
    "\n",
    "    return tick_data\n",
    "\n",
    "def train1(iterations=500, learning_rate=0.05, depth=10):\n",
    "    tick_data = get_data()\n",
    "    tick_data['时间'] = pd.to_datetime(tick_data['时间'])\n",
    "    tick_data['时间'] = (tick_data['时间'] - tick_data['时间'].min()) / np.timedelta64(1, 's')\n",
    "    tick_data = tick_data.sort_values(by='时间')\n",
    "\n",
    "    # 创建涨跌标签\n",
    "    tick_data['涨跌'] = np.where(tick_data['最新价'].diff() > 0, 1, 0)\n",
    "\n",
    "    train_size = int(len(tick_data) * 0.7)\n",
    "    val_size = int(len(tick_data) * 0.1)\n",
    "    train_data, test_data = tick_data[:train_size], tick_data[train_size:]\n",
    "\n",
    "    def create_dataset(data, time_step=1):\n",
    "        data = data.values\n",
    "        X, Y = [], []\n",
    "        for i in range(len(data) - time_step):\n",
    "            a = data[i:(i + time_step), :-1]\n",
    "            X.append(a.flatten())\n",
    "            Y.append(data[i + time_step, -1])\n",
    "        return np.array(X), np.array(Y)\n",
    "\n",
    "    time_step = 10\n",
    "    X_train, y_train = create_dataset(train_data, time_step)\n",
    "    X_test, y_test = create_dataset(test_data, time_step)\n",
    "\n",
    "    # 创建CatBoost分类模型\n",
    "    model = CatBoostClassifier(iterations=iterations,\n",
    "                            learning_rate=learning_rate,\n",
    "                            depth=depth,\n",
    "                            loss_function='Logloss',\n",
    "                            verbose=False)\n",
    "\n",
    "    train_pool = Pool(X_train, y_train)\n",
    "    model.fit(train_pool)\n",
    "\n",
    "    train_predict = model.predict(X_train)\n",
    "    test_predict = model.predict(X_test)\n",
    "\n",
    "    # 绘制混淆矩阵\n",
    "    cm = confusion_matrix(y_test, test_predict)\n",
    "    sns.heatmap(cm, annot=True, fmt='d')\n",
    "    plt.title('Confusion Matrix')\n",
    "    plt.xlabel('Predicted')\n",
    "    plt.ylabel('Actual')\n",
    "    plt.show()\n",
    "\n",
    "    return model\n",
    "\n",
    "train1(**{'depth': 6, 'iterations': 100, 'learning_rate': 0.05})\n"
   ]
  },
  {
   "cell_type": "code",
   "execution_count": 34,
   "metadata": {},
   "outputs": [
    {
     "data": {
      "image/png": "[encoded data removed]",
      "text/plain": [
       "<Figure size 640x480 with 2 Axes>"
      ]
     },
     "metadata": {},
     "output_type": "display_data"
    },
    {
     "data": {
      "text/plain": [
       "<catboost.core.CatBoostClassifier at 0x7f743c321ed0>"
      ]
     },
     "execution_count": 34,
     "metadata": {},
     "output_type": "execute_result"
    }
   ],
   "source": [
    "train1()"
   ]
  }
 ],
 "metadata": {
  "kernelspec": {
   "display_name": "trade",
   "language": "python",
   "name": "python3"
  },
  "language_info": {
   "codemirror_mode": {
    "name": "ipython",
    "version": 3
   },
   "file_extension": ".py",
   "mimetype": "text/x-python",
   "name": "python",
   "nbconvert_exporter": "python",
   "pygments_lexer": "ipython3",
   "version": "3.9.19"
  }
 },
 "nbformat": 4,
 "nbformat_minor": 2
}
